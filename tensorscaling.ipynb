{
 "cells": [
  {
   "cell_type": "code",
   "execution_count": 1,
   "metadata": {},
   "outputs": [],
   "source": [
    "from tensorscaling import scale, unit_tensor, random_tensor, marginal\n",
    "import numpy as np"
   ]
  },
  {
   "cell_type": "markdown",
   "metadata": {},
   "source": [
    "# Tensor scaling"
   ]
  },
  {
   "cell_type": "markdown",
   "metadata": {},
   "source": [
    "Scale 3x3x3 unit tensor to certain non-uniform marginals:"
   ]
  },
  {
   "cell_type": "code",
   "execution_count": 2,
   "metadata": {},
   "outputs": [
    {
     "data": {
      "text/plain": [
       "Result(success=True, iterations=60, max_dist=9.652110123602292e-05, ..., log_cap=-0.5619000922649475)"
      ]
     },
     "execution_count": 2,
     "metadata": {},
     "output_type": "execute_result"
    }
   ],
   "source": [
    "shape = [3, 3, 3]\n",
    "targets = [(.5, .25, .25), (.4, .3, .3), (.7, .2, .1)]\n",
    "\n",
    "res = scale(unit_tensor(3, 3), targets, eps=1e-4)\n",
    "res"
   ]
  },
  {
   "cell_type": "markdown",
   "metadata": {},
   "source": [
    "We can also access the scaling matrices and the final scaled state:"
   ]
  },
  {
   "cell_type": "code",
   "execution_count": 3,
   "metadata": {},
   "outputs": [
    {
     "name": "stdout",
     "output_type": "stream",
     "text": [
      "[[1.86401077+0.j         0.        +0.j         0.        +0.j        ]\n",
      " [0.40568423-0.65191208j 0.78984324+0.j         0.        +0.j        ]\n",
      " [0.02417466-0.05871347j 0.08408474+0.21475773j 0.64228612+0.j        ]] \n",
      "\n",
      "[[ 2.30299211+0.j          0.        +0.j          0.        +0.j        ]\n",
      " [ 1.93406064+0.37703279j  0.760699  +0.j          0.        +0.j        ]\n",
      " [-0.44726003+2.09760999j  0.37884666+0.67761631j  0.73148825+0.j        ]] \n",
      "\n",
      "[[ 2.11570817+0.j          0.        +0.j          0.        +0.j        ]\n",
      " [ 0.34303547+0.77486223j  0.48111456+0.j          0.        +0.j        ]\n",
      " [-0.18472265-0.08619213j -0.40748028+0.08285216j  0.3138829 +0.j        ]]\n"
     ]
    }
   ],
   "source": [
    "print(res.gs[0], \"\\n\")\n",
    "print(res.gs[1], \"\\n\")\n",
    "print(res.gs[2])"
   ]
  },
  {
   "cell_type": "markdown",
   "metadata": {},
   "source": [
    "Let's now check that the W tensor *cannot* be scaled to uniform marginals:"
   ]
  },
  {
   "cell_type": "code",
   "execution_count": 4,
   "metadata": {},
   "outputs": [
    {
     "data": {
      "text/plain": [
       "Result(success=False, iterations=1000, max_dist=0.31101482271171077, ..., log_cap=None)"
      ]
     },
     "execution_count": 4,
     "metadata": {},
     "output_type": "execute_result"
    }
   ],
   "source": [
    "shape = [2, 2, 2, 2]\n",
    "W = np.zeros(shape)\n",
    "W[1, 0, 0, 0] = W[0, 1, 0, 0] = W[0, 0, 1, 0] = W[0, 0, 0, 1] = .5\n",
    "targets = [(.5, .5)] * 4\n",
    "\n",
    "scale(W, targets, eps=1e-4, max_iterations=1000)"
   ]
  },
  {
   "cell_type": "markdown",
   "metadata": {},
   "source": [
    "To see more clearly what is going on, we can set the `verbose` flag:"
   ]
  },
  {
   "cell_type": "code",
   "execution_count": 5,
   "metadata": {},
   "outputs": [
    {
     "name": "stdout",
     "output_type": "stream",
     "text": [
      "scaling tensor of shape (2, 2, 2, 2) and type float64\n",
      "target spectra:\n",
      "  0: (0.5, 0.5)\n",
      "  1: (0.5, 0.5)\n",
      "  2: (0.5, 0.5)\n",
      "  3: (0.5, 0.5)\n",
      "#000: max_dist = 0.35355339 @ sys = 3\n",
      "#001: max_dist = 0.47140452 @ sys = 0\n",
      "#002: max_dist = 0.56568542 @ sys = 1\n",
      "#003: max_dist = 0.62853936 @ sys = 2\n",
      "#004: max_dist = 0.58232323 @ sys = 3\n",
      "#005: max_dist = 0.59305730 @ sys = 0\n",
      "#006: max_dist = 0.59545834 @ sys = 1\n",
      "#007: max_dist = 0.59262283 @ sys = 2\n",
      "#008: max_dist = 0.59353004 @ sys = 3\n",
      "#009: max_dist = 0.59357133 @ sys = 0\n",
      "#010: max_dist = 0.59340661 @ sys = 1\n",
      "did not converge!\n"
     ]
    }
   ],
   "source": [
    "res = scale(W, targets, eps=1e-4, max_iterations=10, verbose=True)"
   ]
  },
  {
   "cell_type": "markdown",
   "metadata": {},
   "source": [
    "We see that at each point in the algorithm, one of the marginals has Frobenius distance $\\approx 0.59$ to being uniform. Indeed, we know that the entanglement polytope of the W tensor does not include the point corresponding to uniform marginals -- see [here](https://www.entanglement-polytopes.org/four_qubits) for an interactive visualization!"
   ]
  },
  {
   "cell_type": "markdown",
   "metadata": {},
   "source": [
    "# Tuples of matrices and tensors"
   ]
  },
  {
   "cell_type": "markdown",
   "metadata": {},
   "source": [
    "We can just as well only prescribe the desired spectra for subsystems.\n",
    "Note that prescribing two out of three marginals amounts to *operator scaling*."
   ]
  },
  {
   "cell_type": "code",
   "execution_count": 6,
   "metadata": {},
   "outputs": [
    {
     "data": {
      "text/plain": [
       "Result(success=True, iterations=25, max_dist=4.925768997189056e-07, ..., log_cap=-0.15872212095424812)"
      ]
     },
     "execution_count": 6,
     "metadata": {},
     "output_type": "execute_result"
    }
   ],
   "source": [
    "shape = [3, 3, 3]\n",
    "targets = [(.4, .3, .3), (.7, .2, .1)]\n",
    "\n",
    "res = scale(unit_tensor(3, 3), targets, eps=1e-6)\n",
    "res"
   ]
  },
  {
   "cell_type": "markdown",
   "metadata": {},
   "source": [
    "Indeed, the last two marginals are as prescribed, while the first marginal is arbitrary."
   ]
  },
  {
   "cell_type": "code",
   "execution_count": 7,
   "metadata": {},
   "outputs": [
    {
     "name": "stdout",
     "output_type": "stream",
     "text": [
      "[[ 0.32067+0.j      -0.0198 +0.0074j   0.00931-0.00041j]\n",
      " [-0.0198 -0.0074j   0.36438+0.j      -0.0121 -0.01212j]\n",
      " [ 0.00931+0.00041j -0.0121 +0.01212j  0.31494+0.j     ]] \n",
      "\n",
      "[[ 0.4+0.j  0. +0.j  0. -0.j]\n",
      " [ 0. -0.j  0.3+0.j -0. +0.j]\n",
      " [ 0. +0.j -0. -0.j  0.3+0.j]] \n",
      "\n",
      "[[ 0.7+0.j -0. +0.j -0. +0.j]\n",
      " [-0. -0.j  0.2+0.j -0. +0.j]\n",
      " [-0. +0.j -0. -0.j  0.1+0.j]]\n"
     ]
    }
   ],
   "source": [
    "print(marginal(res.psi, 0).round(5), \"\\n\")\n",
    "print(marginal(res.psi, 1).round(5), \"\\n\")\n",
    "print(marginal(res.psi, 2).round(5))"
   ]
  }
 ],
 "metadata": {
  "kernelspec": {
   "display_name": "Python 3 (ipykernel)",
   "language": "python",
   "name": "python3"
  },
  "language_info": {
   "codemirror_mode": {
    "name": "ipython",
    "version": 3
   },
   "file_extension": ".py",
   "mimetype": "text/x-python",
   "name": "python",
   "nbconvert_exporter": "python",
   "pygments_lexer": "ipython3",
   "version": "3.9.4"
  }
 },
 "nbformat": 4,
 "nbformat_minor": 2
}
